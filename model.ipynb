{
  "nbformat": 4,
  "nbformat_minor": 0,
  "metadata": {
    "colab": {
      "name": "model.ipynb",
      "provenance": [],
      "collapsed_sections": [],
      "authorship_tag": "ABX9TyPkKHd8c2IEW+6KHeZusDeP",
      "include_colab_link": true
    },
    "kernelspec": {
      "display_name": "Python 3",
      "name": "python3"
    },
    "language_info": {
      "name": "python"
    },
    "accelerator": "GPU"
  },
  "cells": [
    {
      "cell_type": "markdown",
      "metadata": {
        "id": "view-in-github",
        "colab_type": "text"
      },
      "source": [
        "<a href=\"https://colab.research.google.com/github/alexander-karpov/eatable/blob/main/model.ipynb\" target=\"_parent\"><img src=\"https://colab.research.google.com/assets/colab-badge.svg\" alt=\"Open In Colab\"/></a>"
      ]
    },
    {
      "cell_type": "code",
      "metadata": {
        "id": "jQuvnd05eNze"
      },
      "source": [
        "!pip install transformers requests datasets"
      ],
      "execution_count": null,
      "outputs": []
    },
    {
      "cell_type": "code",
      "metadata": {
        "id": "HbGPpye_gsSk"
      },
      "source": [
        "import requests\n",
        "\n",
        "eatable_senses = requests.get('https://raw.githubusercontent.com/alexander-karpov/eatable/main/eatable.txt').text.split('\\n')\n",
        "uneatable_senses = requests.get('https://raw.githubusercontent.com/alexander-karpov/eatable/main/uneatable.txt').text.split('\\n')"
      ],
      "execution_count": 3,
      "outputs": []
    },
    {
      "cell_type": "code",
      "metadata": {
        "id": "b9ZRQZggJYSv"
      },
      "source": [
        "from transformers import AutoTokenizer, AutoModelForSequenceClassification\n",
        "\n",
        "tokenizer = AutoTokenizer.from_pretrained('cointegrated/rubert-tiny')\n",
        "model = AutoModelForSequenceClassification.from_pretrained('cointegrated/rubert-tiny', num_labels=2)"
      ],
      "execution_count": null,
      "outputs": []
    },
    {
      "cell_type": "code",
      "metadata": {
        "id": "o6MNFy0JoC8L"
      },
      "source": [
        "from datasets import Dataset\n",
        "\n",
        "raw_dataset = Dataset.from_dict({\n",
        "    'text': eatable_senses + uneatable_senses,\n",
        "    'labels': ([1] * len(eatable_senses)) + ([0] * len(uneatable_senses))\n",
        "})\n",
        "\n",
        "tokenized_dataset = raw_dataset.map(\n",
        "    lambda examples: tokenizer(examples['text'], padding=\"max_length\", truncation=True)\n",
        ", batched=True)\n",
        "\n",
        "tokenized_dataset = tokenized_dataset.remove_columns('text')\n",
        "tokenized_dataset = tokenized_dataset.shuffle(seed=42)\n",
        "\n",
        "eval_dataset = tokenized_dataset.select(range(0, 700))\n",
        "train_dataset = tokenized_dataset.select(range(700, len(raw_dataset)))"
      ],
      "execution_count": null,
      "outputs": []
    },
    {
      "cell_type": "code",
      "metadata": {
        "id": "mpq6g9MwQxUe"
      },
      "source": [
        "import numpy as np\n",
        "from datasets import load_metric\n",
        "\n",
        "metric = load_metric(\"accuracy\")\n",
        "\n",
        "def compute_metrics(eval_pred):\n",
        "    logits, labels = eval_pred\n",
        "    predictions = np.argmax(logits, axis=-1)\n",
        "    return metric.compute(predictions=predictions, references=labels)"
      ],
      "execution_count": null,
      "outputs": []
    },
    {
      "cell_type": "code",
      "metadata": {
        "id": "0okJ7XmZPRpU"
      },
      "source": [
        "from transformers import Trainer, TrainingArguments\n",
        "\n",
        "trainer = Trainer(\n",
        "    model=model,\n",
        "    args=TrainingArguments(\"test_trainer\"),\n",
        "    train_dataset=train_dataset,\n",
        "    eval_dataset=eval_dataset,\n",
        "    compute_metrics=compute_metrics\n",
        ")"
      ],
      "execution_count": null,
      "outputs": []
    },
    {
      "cell_type": "code",
      "metadata": {
        "colab": {
          "base_uri": "https://localhost:8080/",
          "height": 770
        },
        "id": "2-mSr8wTPcCP",
        "outputId": "8c71df2d-7399-4acb-c1b9-1a500021de55"
      },
      "source": [
        "trainer.train()"
      ],
      "execution_count": 12,
      "outputs": [
        {
          "output_type": "stream",
          "text": [
            "***** Running training *****\n",
            "  Num examples = 7135\n",
            "  Num Epochs = 3\n",
            "  Instantaneous batch size per device = 8\n",
            "  Total train batch size (w. parallel, distributed & accumulation) = 8\n",
            "  Gradient Accumulation steps = 1\n",
            "  Total optimization steps = 2676\n"
          ],
          "name": "stderr"
        },
        {
          "output_type": "display_data",
          "data": {
            "text/html": [
              "\n",
              "    <div>\n",
              "      \n",
              "      <progress value='2676' max='2676' style='width:300px; height:20px; vertical-align: middle;'></progress>\n",
              "      [2676/2676 03:27, Epoch 3/3]\n",
              "    </div>\n",
              "    <table border=\"1\" class=\"dataframe\">\n",
              "  <thead>\n",
              "    <tr style=\"text-align: left;\">\n",
              "      <th>Step</th>\n",
              "      <th>Training Loss</th>\n",
              "    </tr>\n",
              "  </thead>\n",
              "  <tbody>\n",
              "    <tr>\n",
              "      <td>500</td>\n",
              "      <td>0.341100</td>\n",
              "    </tr>\n",
              "    <tr>\n",
              "      <td>1000</td>\n",
              "      <td>0.278600</td>\n",
              "    </tr>\n",
              "    <tr>\n",
              "      <td>1500</td>\n",
              "      <td>0.239500</td>\n",
              "    </tr>\n",
              "    <tr>\n",
              "      <td>2000</td>\n",
              "      <td>0.221100</td>\n",
              "    </tr>\n",
              "    <tr>\n",
              "      <td>2500</td>\n",
              "      <td>0.200500</td>\n",
              "    </tr>\n",
              "  </tbody>\n",
              "</table><p>"
            ],
            "text/plain": [
              "<IPython.core.display.HTML object>"
            ]
          },
          "metadata": {
            "tags": []
          }
        },
        {
          "output_type": "stream",
          "text": [
            "Saving model checkpoint to test_trainer/checkpoint-500\n",
            "Configuration saved in test_trainer/checkpoint-500/config.json\n",
            "Model weights saved in test_trainer/checkpoint-500/pytorch_model.bin\n",
            "Saving model checkpoint to test_trainer/checkpoint-1000\n",
            "Configuration saved in test_trainer/checkpoint-1000/config.json\n",
            "Model weights saved in test_trainer/checkpoint-1000/pytorch_model.bin\n",
            "Saving model checkpoint to test_trainer/checkpoint-1500\n",
            "Configuration saved in test_trainer/checkpoint-1500/config.json\n",
            "Model weights saved in test_trainer/checkpoint-1500/pytorch_model.bin\n",
            "Saving model checkpoint to test_trainer/checkpoint-2000\n",
            "Configuration saved in test_trainer/checkpoint-2000/config.json\n",
            "Model weights saved in test_trainer/checkpoint-2000/pytorch_model.bin\n",
            "Saving model checkpoint to test_trainer/checkpoint-2500\n",
            "Configuration saved in test_trainer/checkpoint-2500/config.json\n",
            "Model weights saved in test_trainer/checkpoint-2500/pytorch_model.bin\n",
            "\n",
            "\n",
            "Training completed. Do not forget to share your model on huggingface.co/models =)\n",
            "\n",
            "\n"
          ],
          "name": "stderr"
        },
        {
          "output_type": "execute_result",
          "data": {
            "text/plain": [
              "TrainOutput(global_step=2676, training_loss=0.2514704317968166, metrics={'train_runtime': 207.3425, 'train_samples_per_second': 103.235, 'train_steps_per_second': 12.906, 'total_flos': 774922799831040.0, 'train_loss': 0.2514704317968166, 'epoch': 3.0})"
            ]
          },
          "metadata": {
            "tags": []
          },
          "execution_count": 12
        }
      ]
    },
    {
      "cell_type": "code",
      "metadata": {
        "colab": {
          "base_uri": "https://localhost:8080/",
          "height": 203
        },
        "id": "svdf9qaCSZu2",
        "outputId": "3cc8348a-f96f-4220-f712-d097b8432dee"
      },
      "source": [
        "trainer.evaluate()"
      ],
      "execution_count": 13,
      "outputs": [
        {
          "output_type": "stream",
          "text": [
            "***** Running Evaluation *****\n",
            "  Num examples = 700\n",
            "  Batch size = 8\n"
          ],
          "name": "stderr"
        },
        {
          "output_type": "display_data",
          "data": {
            "text/html": [
              "\n",
              "    <div>\n",
              "      \n",
              "      <progress value='88' max='88' style='width:300px; height:20px; vertical-align: middle;'></progress>\n",
              "      [88/88 00:02]\n",
              "    </div>\n",
              "    "
            ],
            "text/plain": [
              "<IPython.core.display.HTML object>"
            ]
          },
          "metadata": {
            "tags": []
          }
        },
        {
          "output_type": "execute_result",
          "data": {
            "text/plain": [
              "{'epoch': 3.0,\n",
              " 'eval_accuracy': 0.8928571428571429,\n",
              " 'eval_loss': 0.3173799216747284,\n",
              " 'eval_runtime': 2.503,\n",
              " 'eval_samples_per_second': 279.668,\n",
              " 'eval_steps_per_second': 35.158}"
            ]
          },
          "metadata": {
            "tags": []
          },
          "execution_count": 13
        }
      ]
    },
    {
      "cell_type": "code",
      "metadata": {
        "id": "G8SjPWSZbH8u"
      },
      "source": [
        "from transformers import pipeline\n",
        "\n",
        "classifier = pipeline('sentiment-analysis', model=model, tokenizer=tokenizer, device=0)"
      ],
      "execution_count": 28,
      "outputs": []
    },
    {
      "cell_type": "code",
      "metadata": {
        "colab": {
          "base_uri": "https://localhost:8080/"
        },
        "id": "oZ6q7kKf0f-W",
        "outputId": "a0067fc1-c4d5-4ee3-801d-07dc99fa52e8"
      },
      "source": [
        "(classifier([\n",
        "    'гвозди',\n",
        "    'камень',\n",
        "    'носки',\n",
        "    'какашки',\n",
        "]),\n",
        " '---',\n",
        "classifier([\n",
        "    'пельмени',\n",
        "    'хлеб',\n",
        "    'конфета',\n",
        "    'яблоко',\n",
        "]),\n",
        " '---',\n",
        " classifier([\n",
        "    'пельмени из собаки',\n",
        "    'каменный хлеб',\n",
        "    'конфета из говна',\n",
        "    'тухлое яблоко',\n",
        "]))"
      ],
      "execution_count": 33,
      "outputs": [
        {
          "output_type": "execute_result",
          "data": {
            "text/plain": [
              "([{'label': 'LABEL_0', 'score': 0.9929084777832031},\n",
              "  {'label': 'LABEL_0', 'score': 0.9910733699798584},\n",
              "  {'label': 'LABEL_0', 'score': 0.9007031321525574},\n",
              "  {'label': 'LABEL_0', 'score': 0.9347123503684998}],\n",
              " '---',\n",
              " [{'label': 'LABEL_1', 'score': 0.6412826776504517},\n",
              "  {'label': 'LABEL_1', 'score': 0.9916767477989197},\n",
              "  {'label': 'LABEL_1', 'score': 0.9951255917549133},\n",
              "  {'label': 'LABEL_1', 'score': 0.9665576219558716}],\n",
              " '---',\n",
              " [{'label': 'LABEL_1', 'score': 0.9609507918357849},\n",
              "  {'label': 'LABEL_0', 'score': 0.9011201858520508},\n",
              "  {'label': 'LABEL_1', 'score': 0.996267557144165},\n",
              "  {'label': 'LABEL_1', 'score': 0.9907879829406738}])"
            ]
          },
          "metadata": {
            "tags": []
          },
          "execution_count": 33
        }
      ]
    },
    {
      "cell_type": "code",
      "metadata": {
        "colab": {
          "base_uri": "https://localhost:8080/"
        },
        "id": "p5Y-f9Ei3ZiX",
        "outputId": "9c6508b0-d5d4-4dd3-d400-bc1dc1a33c7d"
      },
      "source": [
        "for i,e in enumerate(classifier(uneatable_senses)):\n",
        "    if e['label'] == 'LABEL_1':\n",
        "        print(uneatable_senses[i])"
      ],
      "execution_count": 44,
      "outputs": [
        {
          "output_type": "stream",
          "text": [
            "ажур\n",
            "азбука\n",
            "айсберг\n",
            "алкотестер\n",
            "аналой\n",
            "антивирусный продукт\n",
            "асбестоцементный продукт\n",
            "багор\n",
            "барбекюшница\n",
            "баян\n",
            "бечева\n",
            "бикини\n",
            "блюдечко\n",
            "борт\n",
            "булава\n",
            "валенки\n",
            "ведро\n",
            "виселица\n",
            "гладкоствольное ружье\n",
            "гладь\n",
            "горбушка хлеба\n",
            "гостинец\n",
            "грифель\n",
            "грош\n",
            "донка\n",
            "доха\n",
            "дрова\n",
            "ездовые нарты\n",
            "женский пиджак\n",
            "жигуленок\n",
            "жупан\n",
            "зеркало\n",
            "змей\n",
            "караоке\n",
            "кашне\n",
            "кварцевая лампа\n",
            "кепи\n",
            "кепка\n",
            "кимоно\n",
            "кингстон\n",
            "кислородная маска\n",
            "кистещеточные изделия\n",
            "клюка\n",
            "клюшка\n",
            "ковш\n",
            "кокошник\n",
            "ком\n",
            "контрабас\n",
            "корвет\n",
            "коромысло\n",
            "кофеварка\n",
            "кошель\n",
            "краюха хлеба\n",
            "кремень\n",
            "кровяной тромб\n",
            "курок\n",
            "кусок ваты\n",
            "лада нива\n",
            "ладья\n",
            "латы\n",
            "ледянка\n",
            "лепнина\n",
            "ливрея\n",
            "линза\n",
            "лукошко\n",
            "лупа\n",
            "лыжи горные\n",
            "лыко\n",
            "льнопродукция\n",
            "льняное сырье\n",
            "макинтош\n",
            "манжета\n",
            "маховик\n",
            "медь\n",
            "мерный слиток\n",
            "мойка\n",
            "молот\n",
            "мопед\n",
            "муляж\n",
            "натуральное волокно\n",
            "отливная матрица\n",
            "панама\n",
            "папаха\n",
            "перчаточные изделия\n",
            "петля\n",
            "пиратская продукция\n",
            "подлодка\n",
            "польский грош\n",
            "пояс\n",
            "поясок\n",
            "продукция угольной отрасли\n",
            "пуанты\n",
            "пук\n",
            "разворот\n",
            "рама\n",
            "распятие\n",
            "рождественская елка\n",
            "ряса\n",
            "сабля\n",
            "сабо\n",
            "саван\n",
            "сапоги\n",
            "сафари\n",
            "сбруя\n",
            "святые мощи\n",
            "сирена\n",
            "скоба\n",
            "скорая\n",
            "скотч\n",
            "солнечная панель\n",
            "солярий\n",
            "субмарина\n",
            "сушняк\n",
            "сырец\n",
            "тамбурин\n",
            "тесак\n",
            "тренога\n",
            "туфелька\n",
            "усики растений\n",
            "ферзь\n",
            "френч\n",
            "хиджаб\n",
            "химоружие\n",
            "холоднокатаный лист\n",
            "чайник\n",
            "чарка\n",
            "чеканка\n",
            "чембало\n",
            "шорно-седельное изделие\n",
            "шорное изделие\n",
            "шорты\n",
            "эсминец\n"
          ],
          "name": "stdout"
        }
      ]
    }
  ]
}